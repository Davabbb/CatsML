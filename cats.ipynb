{
 "cells": [
  {
   "cell_type": "code",
   "execution_count": 49,
   "metadata": {
    "ExecuteTime": {
     "end_time": "2023-12-26T16:51:23.194505Z",
     "start_time": "2023-12-26T16:51:23.055774Z"
    }
   },
   "outputs": [],
   "source": [
    "import torch\n",
    "import torch.nn as nn\n",
    "import torch.optim as optim\n",
    "from torch.utils.data import Dataset, DataLoader\n",
    "import pandas as pd\n",
    "# import cv2\n",
    "from pathlib import Path\n",
    "from PIL import Image\n",
    "import os\n",
    "import torchvision.transforms as transforms"
   ]
  },
  {
   "cell_type": "code",
   "execution_count": 50,
   "metadata": {
    "ExecuteTime": {
     "end_time": "2023-12-26T16:51:23.204696Z",
     "start_time": "2023-12-26T16:51:23.065762Z"
    }
   },
   "outputs": [],
   "source": [
    "# keypoints = pd.read_csv(\"train_labels.csv\", index_col=\"file_name\")\n",
    "\n",
    "# file_names = os.listdir('train')\n",
    "\n",
    "# for file_name in file_names:\n",
    "#     if keypoints.loc[file_name].shape != (18,):\n",
    "#         print(file_name)"
   ]
  },
  {
   "cell_type": "code",
   "execution_count": 51,
   "metadata": {
    "ExecuteTime": {
     "end_time": "2023-12-26T16:51:23.204997Z",
     "start_time": "2023-12-26T16:51:23.070084Z"
    }
   },
   "outputs": [],
   "source": [
    "# for i in keypoints.columns:\n",
    "#     print(f\"\\\"{i}\\\",\")"
   ]
  },
  {
   "cell_type": "code",
   "execution_count": 52,
   "metadata": {
    "ExecuteTime": {
     "end_time": "2023-12-26T16:51:23.214837Z",
     "start_time": "2023-12-26T16:51:23.072260Z"
    }
   },
   "outputs": [
    {
     "data": {
      "text/plain": "      left_eye_x  left_eye_y  right_eye_x  right_eye_y  mouth_x  mouth_y  \\\n448        406.0       330.0        609.0        358.0    486.0    485.0   \n1968       207.0       216.0        292.0        219.0    246.0    292.0   \n\n      left_ear_1_x  left_ear_1_y  left_ear_2_x  left_ear_2_y  left_ear_3_x  \\\n448          305.0         259.0         237.0          37.0         385.0   \n1968         155.0         167.0         153.0          65.0         216.0   \n\n      left_ear_3_y  right_ear_1_x  right_ear_1_y  right_ear_2_x  \\\n448          202.0          655.0          241.0          810.0   \n1968         136.0          292.0          137.0          366.0   \n\n      right_ear_2_y  right_ear_3_x  right_ear_3_y  \\\n448           124.0          733.0          320.0   \n1968           81.0          348.0          179.0   \n\n                                 file_name  \n448   e4f6e24a432559c091e0292b12024466.jpg  \n1968  e4f6e24a432559c091e0292b12024466.jpg  ",
      "text/html": "<div>\n<style scoped>\n    .dataframe tbody tr th:only-of-type {\n        vertical-align: middle;\n    }\n\n    .dataframe tbody tr th {\n        vertical-align: top;\n    }\n\n    .dataframe thead th {\n        text-align: right;\n    }\n</style>\n<table border=\"1\" class=\"dataframe\">\n  <thead>\n    <tr style=\"text-align: right;\">\n      <th></th>\n      <th>left_eye_x</th>\n      <th>left_eye_y</th>\n      <th>right_eye_x</th>\n      <th>right_eye_y</th>\n      <th>mouth_x</th>\n      <th>mouth_y</th>\n      <th>left_ear_1_x</th>\n      <th>left_ear_1_y</th>\n      <th>left_ear_2_x</th>\n      <th>left_ear_2_y</th>\n      <th>left_ear_3_x</th>\n      <th>left_ear_3_y</th>\n      <th>right_ear_1_x</th>\n      <th>right_ear_1_y</th>\n      <th>right_ear_2_x</th>\n      <th>right_ear_2_y</th>\n      <th>right_ear_3_x</th>\n      <th>right_ear_3_y</th>\n      <th>file_name</th>\n    </tr>\n  </thead>\n  <tbody>\n    <tr>\n      <th>448</th>\n      <td>406.0</td>\n      <td>330.0</td>\n      <td>609.0</td>\n      <td>358.0</td>\n      <td>486.0</td>\n      <td>485.0</td>\n      <td>305.0</td>\n      <td>259.0</td>\n      <td>237.0</td>\n      <td>37.0</td>\n      <td>385.0</td>\n      <td>202.0</td>\n      <td>655.0</td>\n      <td>241.0</td>\n      <td>810.0</td>\n      <td>124.0</td>\n      <td>733.0</td>\n      <td>320.0</td>\n      <td>e4f6e24a432559c091e0292b12024466.jpg</td>\n    </tr>\n    <tr>\n      <th>1968</th>\n      <td>207.0</td>\n      <td>216.0</td>\n      <td>292.0</td>\n      <td>219.0</td>\n      <td>246.0</td>\n      <td>292.0</td>\n      <td>155.0</td>\n      <td>167.0</td>\n      <td>153.0</td>\n      <td>65.0</td>\n      <td>216.0</td>\n      <td>136.0</td>\n      <td>292.0</td>\n      <td>137.0</td>\n      <td>366.0</td>\n      <td>81.0</td>\n      <td>348.0</td>\n      <td>179.0</td>\n      <td>e4f6e24a432559c091e0292b12024466.jpg</td>\n    </tr>\n  </tbody>\n</table>\n</div>"
     },
     "execution_count": 52,
     "metadata": {},
     "output_type": "execute_result"
    }
   ],
   "source": [
    "keypoints = pd.read_csv(\"data/train_labels.csv\")\n",
    "filtered_data = keypoints[keypoints['file_name'] == 'e4f6e24a432559c091e0292b12024466.jpg']\n",
    "filtered_data"
   ]
  },
  {
   "cell_type": "code",
   "execution_count": 53,
   "metadata": {
    "ExecuteTime": {
     "end_time": "2023-12-26T16:51:23.215542Z",
     "start_time": "2023-12-26T16:51:23.106260Z"
    }
   },
   "outputs": [],
   "source": [
    "# import matplotlib.pyplot as plt\n",
    "# import matplotlib.patches as patches\n",
    "# from PIL import Image\n",
    "# import numpy as np\n",
    "\n",
    "# # Замените путь на реальный путь к вашему изображению\n",
    "# image_path = 'train/7d3cdffd19b9cec0d44661797492b94a.jpg'\n",
    "\n",
    "# # Открываем изображение\n",
    "# image = Image.open(image_path)\n",
    "\n",
    "# # Создаем объект для рисования\n",
    "# fig, ax = plt.subplots()\n",
    "\n",
    "# # Отображаем изображение\n",
    "# ax.imshow(image)\n",
    "\n",
    "# # Пример набора точек\n",
    "# points1 = keypoints[keypoints['file_name'] == '7d3cdffd19b9cec0d44661797492b94a.jpg'].loc[140].values[:-1].astype(float)\n",
    "# points2 = keypoints[keypoints['file_name'] == '7d3cdffd19b9cec0d44661797492b94a.jpg'].loc[1649].values[:-1].astype(float)\n",
    "\n",
    "# # Рисуем точки на изображении\n",
    "# for i in range(0, len(points1), 2):\n",
    "#     x, y = points1[i], points1[i + 1]\n",
    "#     circle = patches.Circle((x, y), radius=5, color='red')\n",
    "#     ax.add_patch(circle)\n",
    "\n",
    "# for i in range(0, len(points2), 2):\n",
    "#     x, y = points2[i], points2[i + 1]\n",
    "#     circle = patches.Circle((x, y), radius=5, color='blue')\n",
    "#     ax.add_patch(circle)\n",
    "\n",
    "# plt.show()"
   ]
  },
  {
   "cell_type": "code",
   "execution_count": 54,
   "metadata": {
    "ExecuteTime": {
     "end_time": "2023-12-26T16:51:23.215939Z",
     "start_time": "2023-12-26T16:51:23.107308Z"
    }
   },
   "outputs": [],
   "source": [
    "# # Замените путь на реальный путь к вашему изображению\n",
    "# image_path = 'train/e4f6e24a432559c091e0292b12024466.jpg'\n",
    "\n",
    "# # Открываем изображение\n",
    "# image = Image.open(image_path)\n",
    "\n",
    "# # Создаем объект для рисования\n",
    "# fig, ax = plt.subplots()\n",
    "\n",
    "# # Отображаем изображение\n",
    "# ax.imshow(image)\n",
    "\n",
    "# # Пример набора точек\n",
    "# points1 = keypoints[keypoints['file_name'] == 'e4f6e24a432559c091e0292b12024466.jpg'].loc[448].values[:-1].astype(float)\n",
    "# points2 = keypoints[keypoints['file_name'] == 'e4f6e24a432559c091e0292b12024466.jpg'].loc[1968].values[:-1].astype(float)\n",
    "\n",
    "# # Рисуем точки на изображении\n",
    "# for i in range(0, len(points1), 2):\n",
    "#     x, y = points1[i], points1[i + 1]\n",
    "#     circle = patches.Circle((x, y), radius=5, color='red')\n",
    "#     ax.add_patch(circle)\n",
    "\n",
    "# for i in range(0, len(points2), 2):\n",
    "#     x, y = points2[i], points2[i + 1]\n",
    "#     circle = patches.Circle((x, y), radius=5, color='blue')\n",
    "#     ax.add_patch(circle)\n",
    "\n",
    "# plt.show()"
   ]
  },
  {
   "cell_type": "code",
   "execution_count": 55,
   "metadata": {
    "ExecuteTime": {
     "end_time": "2023-12-26T16:51:23.216030Z",
     "start_time": "2023-12-26T16:51:23.107566Z"
    }
   },
   "outputs": [],
   "source": [
    "# keypoints.loc['7d3cdffd19b9cec0d44661797492b94a.jpg']"
   ]
  },
  {
   "cell_type": "code",
   "execution_count": 56,
   "metadata": {
    "ExecuteTime": {
     "end_time": "2023-12-26T16:51:23.216670Z",
     "start_time": "2023-12-26T16:51:23.107795Z"
    }
   },
   "outputs": [],
   "source": [
    "# keypoints.loc['e4f6e24a432559c091e0292b12024466.jpg']"
   ]
  },
  {
   "cell_type": "code",
   "execution_count": 57,
   "metadata": {
    "ExecuteTime": {
     "end_time": "2023-12-26T16:51:23.217769Z",
     "start_time": "2023-12-26T16:51:23.112321Z"
    }
   },
   "outputs": [],
   "source": [
    "keypoints = keypoints.drop(index=140)\n",
    "keypoints = keypoints.drop(index=448)\n",
    "keypoints = keypoints.set_index('file_name')"
   ]
  },
  {
   "cell_type": "code",
   "execution_count": 58,
   "metadata": {
    "ExecuteTime": {
     "end_time": "2023-12-26T16:51:23.217927Z",
     "start_time": "2023-12-26T16:51:23.128701Z"
    }
   },
   "outputs": [],
   "source": [
    "class CatsDataset(Dataset):\n",
    "    def __init__(self, folder, keypoint_data):\n",
    "        self.folder = folder\n",
    "        self.keypoint_data = keypoint_data\n",
    "        self.image_paths = [os.path.join(folder, filename) for filename in os.listdir(folder)]\n",
    "\n",
    "    def __len__(self):\n",
    "        return len(self.image_paths)\n",
    "\n",
    "    def __getitem__(self, idx):\n",
    "        image_path = self.image_paths[idx]\n",
    "        image = Image.open(image_path).convert('RGB')\n",
    "        image = image.resize((256, 256))\n",
    "        transform = transforms.Compose([\n",
    "            transforms.ToTensor(),\n",
    "            transforms.Normalize((0.5, 0.5, 0.5), (0.5, 0.5, 0.5)) \n",
    "        ])\n",
    "        image = transform(image)\n",
    "\n",
    "        file_name = os.path.basename(image_path)\n",
    "        keypoints = torch.tensor(self.keypoint_data.loc[file_name].values)\n",
    "        return image.float(), keypoints.float()"
   ]
  },
  {
   "cell_type": "code",
   "execution_count": 59,
   "metadata": {
    "ExecuteTime": {
     "end_time": "2023-12-26T16:51:23.220122Z",
     "start_time": "2023-12-26T16:51:23.129487Z"
    }
   },
   "outputs": [],
   "source": [
    "class TestDataset(Dataset):\n",
    "    def __init__(self, folder):\n",
    "        self.folder = folder\n",
    "        self.image_paths = [os.path.join(folder, filename) for filename in os.listdir(folder)]\n",
    "\n",
    "    def __len__(self):\n",
    "        return len(self.image_paths)\n",
    "\n",
    "    def __getitem__(self, idx):\n",
    "        image_path = self.image_paths[idx]\n",
    "        image = Image.open(image_path).convert('RGB')\n",
    "        image = image.resize((256, 256))\n",
    "        transform = transforms.Compose([\n",
    "            transforms.ToTensor(),\n",
    "            transforms.Normalize((0.5, 0.5, 0.5), (0.5, 0.5, 0.5))\n",
    "        ])\n",
    "        image = transform(image)\n",
    "        file_name = os.path.basename(image_path)\n",
    "        return image.float(), file_name"
   ]
  },
  {
   "cell_type": "code",
   "execution_count": 60,
   "metadata": {
    "ExecuteTime": {
     "end_time": "2023-12-26T16:51:23.220918Z",
     "start_time": "2023-12-26T16:51:23.131312Z"
    }
   },
   "outputs": [],
   "source": [
    "# class KeypointCNN(nn.Module):\n",
    "#     def __init__(self):\n",
    "#         super(KeypointCNN, self).__init__()\n",
    "#         self.conv1 = nn.Conv2d(3, 32, kernel_size=5, padding=2)\n",
    "#         self.pool = nn.MaxPool2d(2, 2)\n",
    "#         self.conv2 = nn.Conv2d(32, 64, kernel_size=5, padding=2)\n",
    "#         self.fc1 = nn.Linear(64 * 64 * 4, 128)\n",
    "#         self.fc2 = nn.Linear(128, 18)\n",
    "\n",
    "#     def forward(self, x):\n",
    "#         x = self.pool(nn.functional.relu(self.conv1(x)))\n",
    "#         x = self.pool(nn.functional.relu(self.conv2(x)))\n",
    "#         x = x.view(-1, 64 * 64 * 4)\n",
    "#         x = nn.functional.relu(self.fc1(x))\n",
    "#         x = nn.functional.relu(self.fc2(x))\n",
    "#         return x"
   ]
  },
  {
   "cell_type": "code",
   "execution_count": 61,
   "metadata": {
    "ExecuteTime": {
     "end_time": "2023-12-26T16:51:23.221027Z",
     "start_time": "2023-12-26T16:51:23.136107Z"
    }
   },
   "outputs": [],
   "source": [
    "# class KeypointCNN(nn.Module):\n",
    "#     def __init__(self):\n",
    "#         super(KeypointCNN, self).__init__()\n",
    "#         self.conv1 = nn.Conv2d(3, 32, kernel_size=5, padding=2)\n",
    "#         self.conv2 = nn.Conv2d(32, 64, kernel_size=5, padding=2)\n",
    "#         self.conv3 = nn.Conv2d(64, 128, kernel_size=3, padding=1)\n",
    "#         self.conv4 = nn.Conv2d(128, 256, kernel_size=3, padding=1)\n",
    "#         self.pool = nn.MaxPool2d(2, 2)\n",
    "#         self.fc1 = nn.Linear(256 * 16 * 16, 1024)\n",
    "#         self.fc2 = nn.Linear(1024, 512)\n",
    "#         self.fc3 = nn.Linear(512, 256)\n",
    "#         self.fc4 = nn.Linear(256, 128)\n",
    "#         self.fc5 = nn.Linear(128, 18)\n",
    "#\n",
    "#     def forward(self, x):\n",
    "#         x = self.pool(torch.nn.functional.relu(self.conv1(x)))\n",
    "#         x = self.pool(torch.nn.functional.relu(self.conv2(x)))\n",
    "#         x = self.pool(torch.nn.functional.relu(self.conv3(x)))\n",
    "#         x = self.pool(torch.nn.functional.relu(self.conv4(x)))\n",
    "#         x = x.view(-1, 256 * 16 * 16)\n",
    "#         x = torch.nn.functional.relu(self.fc1(x))\n",
    "#         x = torch.nn.functional.relu(self.fc2(x))\n",
    "#         x = torch.nn.functional.relu(self.fc3(x))\n",
    "#         x = torch.nn.functional.relu(self.fc4(x))\n",
    "#         x = self.fc5(x)\n",
    "#         return x\n",
    "\n",
    "\n",
    "class KeypointCNN(nn.Module):\n",
    "    def __init__(self):\n",
    "        super(KeypointCNN, self).__init__()\n",
    "        self.conv1 = nn.Conv2d(3, 32, kernel_size=5, padding=2)\n",
    "        self.conv2 = nn.Conv2d(32, 64, kernel_size=3, padding=1)\n",
    "        self.pool = nn.MaxPool2d(2, 2)\n",
    "        self.fc1 = nn.Linear(64 * 64 * 64, 512)\n",
    "        self.fc2 = nn.Linear(512, 18)\n",
    "\n",
    "    def forward(self, x):\n",
    "        x = self.pool(torch.nn.functional.relu(self.conv1(x)))\n",
    "        x = self.pool(torch.nn.functional.relu(self.conv2(x)))\n",
    "        x = x.view(-1, 64 * 64 * 64)\n",
    "        x = torch.nn.functional.relu(self.fc1(x))\n",
    "        x = self.fc2(x)\n",
    "        return x"
   ]
  },
  {
   "cell_type": "code",
   "execution_count": 62,
   "metadata": {
    "ExecuteTime": {
     "end_time": "2023-12-26T16:51:23.231810Z",
     "start_time": "2023-12-26T16:51:23.139018Z"
    }
   },
   "outputs": [],
   "source": [
    "#keypoints = pd.read_csv(\"train_labels.csv\", index_col=\"file_name\")\n",
    "train_dataset = CatsDataset(\"data/images/train/\", keypoints)\n",
    "test_dataset = TestDataset(\"data/images/test/\")\n",
    "\n",
    "train_loader = DataLoader(train_dataset, batch_size=8, shuffle=True)\n",
    "test_loader = DataLoader(test_dataset, batch_size=8)"
   ]
  },
  {
   "cell_type": "code",
   "execution_count": null,
   "metadata": {
    "is_executing": true,
    "ExecuteTime": {
     "start_time": "2023-12-26T16:51:23.188425Z"
    }
   },
   "outputs": [],
   "source": [
    "from torch.optim import lr_scheduler\n",
    "num_epochs = 2\n",
    "learning_rate = 0.001\n",
    "\n",
    "model = KeypointCNN()\n",
    "optimizer = optim.Adam(model.parameters(), lr=learning_rate)\n",
    "\n",
    "criterion = nn.MSELoss()\n",
    "\n",
    "# scheduler = lr_scheduler.StepLR(optimizer, step_size=5, gamma=0.5)\n",
    "#\n",
    "# device = torch.device(\"cuda:0\" if torch.cuda.is_available() else \"cpu\")\n",
    "# model.to(device)\n",
    "\n",
    "for epoch in range(num_epochs):\n",
    "    for x_batch, y_batch in train_loader:\n",
    "        outputs = model(x_batch)\n",
    "        loss = criterion(outputs, y_batch)\n",
    "\n",
    "        loss.backward()\n",
    "        optimizer.step()\n",
    "        optimizer.zero_grad()\n",
    "        \n",
    "    print(f\"Epoch [{epoch+1}/{num_epochs}], Loss: {loss.item():.4f}\")"
   ]
  },
  {
   "cell_type": "code",
   "execution_count": null,
   "metadata": {
    "is_executing": true
   },
   "outputs": [],
   "source": [
    "torch.save(model, f\"./{10}_epochs_big.pth\")"
   ]
  },
  {
   "cell_type": "code",
   "execution_count": null,
   "metadata": {
    "is_executing": true
   },
   "outputs": [],
   "source": [
    "import csv\n",
    "\n",
    "model.eval()\n",
    "\n",
    "predictions = []\n",
    "\n",
    "with torch.no_grad():\n",
    "    for images, image_paths in test_loader: \n",
    "        outputs = model(images)\n",
    "        predicted_keypoints = outputs.detach().numpy() \n",
    "\n",
    "        # Add 'file_name' column to predictions\n",
    "        predictions_with_filenames = [{\"file_names\": path, **{f\"{key}\": value for key, value in zip([\"left_eye_x\", \"left_eye_y\", \"right_eye_x\", \"right_eye_y\", \"mouth_x\", \"mouth_y\", \"left_ear_1_x\", \"left_ear_1_y\", \"left_ear_2_x\", \"left_ear_2_y\", \"left_ear_3_x\", \"left_ear_3_y\", \"right_ear_1_x\", \"right_ear_1_y\", \"right_ear_2_x\", \"right_ear_2_y\", \"right_ear_3_x\", \"right_ear_3_y\"], keypoints)}} for path, keypoints in zip(image_paths, predicted_keypoints)]\n",
    "        predictions.extend(predictions_with_filenames)\n",
    "\n",
    "# Write predictions to CSV\n",
    "csv_columns = [\"file_names\", \"left_eye_x\", \"left_eye_y\", \"right_eye_x\", \"right_eye_y\", \"mouth_x\", \"mouth_y\", \"left_ear_1_x\", \"left_ear_1_y\", \"left_ear_2_x\", \"left_ear_2_y\", \"left_ear_3_x\", \"left_ear_3_y\", \"right_ear_1_x\", \"right_ear_1_y\", \"right_ear_2_x\", \"right_ear_2_y\", \"right_ear_3_x\", \"right_ear_3_y\"]\n",
    "with open(\"test_predictions.csv\", \"w\", newline=\"\") as csvfile:\n",
    "    writer = csv.DictWriter(csvfile, fieldnames=csv_columns)\n",
    "    writer.writeheader()\n",
    "    writer.writerows(predictions)\n"
   ]
  },
  {
   "cell_type": "code",
   "execution_count": null,
   "outputs": [],
   "source": [],
   "metadata": {
    "collapsed": false,
    "is_executing": true
   }
  }
 ],
 "metadata": {
  "kernelspec": {
   "display_name": "Python 3",
   "language": "python",
   "name": "python3"
  },
  "language_info": {
   "codemirror_mode": {
    "name": "ipython",
    "version": 3
   },
   "file_extension": ".py",
   "mimetype": "text/x-python",
   "name": "python",
   "nbconvert_exporter": "python",
   "pygments_lexer": "ipython3",
   "version": "3.12.1"
  }
 },
 "nbformat": 4,
 "nbformat_minor": 2
}
